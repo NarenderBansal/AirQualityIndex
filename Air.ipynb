{
 "cells": [
  {
   "cell_type": "code",
   "execution_count": 60,
   "metadata": {},
   "outputs": [],
   "source": [
    "import pandas as pd\n",
    "from glob import  glob\n",
    "import numpy as np\n",
    "files=glob(r'C:\\Users\\v-narku\\Desktop\\pythonPractices\\AQI-Project-master\\Data\\AQI\\*.csv')"
   ]
  },
  {
   "cell_type": "code",
   "execution_count": 61,
   "metadata": {},
   "outputs": [
    {
     "name": "stderr",
     "output_type": "stream",
     "text": [
      "C:\\Users\\v-narku\\AppData\\Local\\Continuum\\anaconda3\\lib\\site-packages\\ipykernel_launcher.py:1: FutureWarning: Sorting because non-concatenation axis is not aligned. A future version\n",
      "of pandas will change to not sort by default.\n",
      "\n",
      "To accept the future behavior, pass 'sort=False'.\n",
      "\n",
      "To retain the current behavior and silence the warning, pass 'sort=True'.\n",
      "\n",
      "  \"\"\"Entry point for launching an IPython kernel.\n"
     ]
    }
   ],
   "source": [
    "df=pd.concat((pd.read_csv(file) for file in files),ignore_index=True,axis=0)\n",
    "df['PM2.5']=np.where(df['PM2.5'].isin(['NoData','PwrFail','---','InVld']),0,df['PM2.5'])\n",
    "df[df['PM2.5']==0]\n",
    "df['Date']=df['Date'].astype(str)\n",
    "start, stop, step = 0, 10, 1\n",
    "df['Date']=df['Date'].str.slice(start, stop, step)\n",
    "df['Date']=pd.to_datetime(df['Date'])\n",
    "df = df.set_index('Date')\n",
    "df['PM2.5']= pd.to_numeric(df['PM2.5'],errors={'coerce'})\n",
    "df_conso=df['PM2.5'].resample('D').mean()\n",
    "df_conso=pd.DataFrame(df_conso)\n",
    "df_conso.reset_index()\n",
    "col=['Dates','PM2.5']\n",
    "df_conso.to_csv(r'C:\\Users\\v-narku\\Desktop\\pythonPractices\\Apidata.csv')"
   ]
  },
  {
   "cell_type": "code",
   "execution_count": 62,
   "metadata": {},
   "outputs": [],
   "source": [
    "df=pd.read_csv(r'C:\\Users\\v-narku\\Desktop\\pythonPractices\\Apidata.csv',header=0)"
   ]
  },
  {
   "cell_type": "code",
   "execution_count": 63,
   "metadata": {},
   "outputs": [],
   "source": [
    "import time\n",
    "import requests\n",
    "import sys\n",
    "import pandas as pd\n",
    "from bs4 import BeautifulSoup\n",
    "import os\n",
    "import csv\n",
    "import io\n",
    "import numpy as np\n",
    "data1=[]\n",
    "for year in range(2013,2020):\n",
    "  for month in range(1,13):\n",
    "    if(month<10):\n",
    "      url='http://en.tutiempo.net/climate/0{}-{}/ws-421820.html'.format(month,year)\n",
    "    else:\n",
    "      url='http://en.tutiempo.net/climate/{}-{}/ws-421820.html'.format(month,year)\n",
    "    \n",
    "    Request=requests.get(url)\n",
    "\n",
    "\n",
    "    tempD = []\n",
    "    finalD = []\n",
    "\n",
    "    soup = BeautifulSoup(Request.text, \"lxml\")\n",
    "    for table in soup.findAll('table', {'class': 'medias mensuales numspan'}):\n",
    "      for tbody in table:\n",
    "        for tr in tbody:\n",
    "          a = tr.get_text()\n",
    "          tempD.append(a)\n",
    "\n",
    "    rows = len(tempD) / 15\n",
    "\n",
    "    for times in range(round(rows)):\n",
    "      newtempD = []\n",
    "      for i in range(15):\n",
    "        newtempD.append(tempD[0])\n",
    "        tempD.pop(0)\n",
    "        finalD.append(newtempD)\n",
    "    data=pd.DataFrame(finalD,columns=['Day', 'T', 'TM', 'Tm', 'SLP', 'H', 'PP', 'VV', 'V', 'VM', 'VG', 'RA', 'SN', 'TS', 'FG'])\n",
    "    data.drop_duplicates(keep='first',inplace=True)\n",
    "    data.drop(data.head(1).index,axis=0,inplace=True)\n",
    "    data.drop(data.tail(2).index,axis=0,inplace=True)\n",
    "    data['dates']=pd.to_datetime(str(year)+'-'+str(month)+'-'+ data['Day'])\n",
    "    data.drop(columns=['VG', 'RA', 'SN', 'TS', 'FG','Day','PP'],axis=1,inplace=True)\n",
    "    data['T']=np.where(data['T']=='',0,data['T'])\n",
    "    data.drop(data[data['T']==0].index,axis=0,inplace=True)\n",
    "    data1=pd.DataFrame(data1) \n",
    "    data1=pd.concat([data,data1],ignore_index=True)"
   ]
  },
  {
   "cell_type": "code",
   "execution_count": 64,
   "metadata": {},
   "outputs": [],
   "source": [
    "# df=pd.read_csv(r'C:\\Users\\v-narku\\Desktop\\pythonPractices\\combine.csv')\n",
    "apidata=pd.read_csv(r'C:\\Users\\v-narku\\Desktop\\pythonPractices\\Apidata.csv',header=0)\n",
    "data1['dates']=pd.to_datetime(data1['dates'])\n",
    "data1['year']=data1['dates'].dt.year.astype(str)\n",
    "apidata['Date']=pd.to_datetime(apidata['Date'])\n",
    "df3=data1[data1['year'].isin(['2013','2014','2015'])]\n",
    "df2=df3.merge(apidata,left_on='dates',right_on='Date',how='left')\n",
    "df2.drop(columns=['Date'],inplace=True)\n",
    "df2['VM']=pd.to_numeric(df2['VM'],errors='coerce')\n",
    "df2.drop(columns=['dates','year'],inplace=True)\n",
    "df2.to_csv(r'C:\\Users\\v-narku\\Desktop\\pythonPractices\\Real_data.csv',index=False)"
   ]
  },
  {
   "cell_type": "markdown",
   "metadata": {},
   "source": [
    "# EDA"
   ]
  }
 ],
 "metadata": {
  "kernelspec": {
   "display_name": "Python 3",
   "language": "python",
   "name": "python3"
  },
  "language_info": {
   "codemirror_mode": {
    "name": "ipython",
    "version": 3
   },
   "file_extension": ".py",
   "mimetype": "text/x-python",
   "name": "python",
   "nbconvert_exporter": "python",
   "pygments_lexer": "ipython3",
   "version": "3.7.3"
  }
 },
 "nbformat": 4,
 "nbformat_minor": 2
}
